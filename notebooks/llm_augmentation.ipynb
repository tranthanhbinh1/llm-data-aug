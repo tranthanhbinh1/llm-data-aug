{
 "cells": [
  {
   "cell_type": "code",
   "execution_count": 6,
   "metadata": {},
   "outputs": [],
   "source": [
    "import pandas as pd\n",
    "import sys  \n",
    "sys.path.insert(1, '/home/tb24/projects/llm-data-aug')\n",
    "\n",
    "# Path\n",
    "import os\n",
    "\n",
    "# Get the project root directory (one level up from the notebook directory)\n",
    "project_root = os.path.abspath(os.path.join(os.getcwd(), \"..\"))\n",
    "\n",
    "# Define the data path\n",
    "data_path = os.path.join(project_root, \"data\")"
   ]
  }
 ],
 "metadata": {
  "language_info": {
   "name": "python"
  }
 },
 "nbformat": 4,
 "nbformat_minor": 2
}
