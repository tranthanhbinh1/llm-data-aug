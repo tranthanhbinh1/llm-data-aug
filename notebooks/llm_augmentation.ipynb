{
 "cells": [
  {
   "cell_type": "code",
   "execution_count": 1,
   "metadata": {},
   "outputs": [],
   "source": [
    "import pandas as pd\n",
    "import sys  \n",
    "sys.path.insert(1, '/home/tb24/projects/llm-data-aug')\n",
    "\n",
    "# Path\n",
    "import os\n",
    "\n",
    "# Get the project root directory (one level up from the notebook directory)\n",
    "project_root = os.path.abspath(os.path.join(os.getcwd(), \"..\"))\n",
    "\n",
    "# Define the data path\n",
    "data_path = os.path.join(project_root, \"data\")"
   ]
  },
  {
   "cell_type": "code",
   "execution_count": 2,
   "metadata": {},
   "outputs": [],
   "source": [
    "# Concat all the CSV files in the data/llm_generated that is og Negative sentiment and generated with AugGPT method\n",
    "\n",
    "file_names = [\n",
    "    \"auggpt_augmented_user_reviews_negative_0.csv\",\n",
    "    \"auggpt_augmented_user_reviews_negative_20.csv\",\n",
    "    \"auggpt_augmented_user_reviews_negative_30.csv\",\n",
    "    \"auggpt_augmented_user_reviews_negative_50.csv\",\n",
    "    \"auggpt_augmented_user_reviews_negative_60.csv\",\n",
    "    \"auggpt_augmented_user_reviews_negative_80.csv\",\n",
    "    \"auggpt_augmented_user_reviews_negative_100.csv\",\n",
    "    \"auggpt_augmented_user_reviews_negative_120.csv\",\n",
    "    \"auggpt_augmented_user_reviews_negative_140.csv\",\n",
    "    \"auggpt_augmented_user_reviews_negative_160.csv\",\n",
    "    \"auggpt_augmented_user_reviews_negative_180.csv\",\n",
    "    \"auggpt_augmented_user_reviews_negative_200.csv\",\n",
    "    \"auggpt_augmented_user_reviews_negative_260.csv\",\n",
    "    \"auggpt_augmented_user_reviews_negative_280.csv\",\n",
    "    \"auggpt_augmented_user_reviews_negative_300.csv\",\n",
    "    \"auggpt_augmented_user_reviews_negative_320.csv\",\n",
    "    \"auggpt_augmented_user_reviews_negative_340.csv\",\n",
    "    \"auggpt_augmented_user_reviews_negative_360.csv\",\n",
    "]\n",
    "\n",
    "# Read all the CSV files\n",
    "df_list = []\n",
    "for file_name in file_names:\n",
    "    df = pd.read_csv(os.path.join(data_path, \"llm_generated\", file_name))\n",
    "    df_list.append(df)\n",
    "    \n",
    "df = pd.concat(df_list)\n"
   ]
  },
  {
   "cell_type": "code",
   "execution_count": 4,
   "metadata": {},
   "outputs": [],
   "source": [
    "df.to_csv(os.path.join(data_path, \"llm_generated\", \"auggpt_augmented_user_reviews_negative.csv\"), index=False)"
   ]
  }
 ],
 "metadata": {
  "language_info": {
   "name": "python"
  }
 },
 "nbformat": 4,
 "nbformat_minor": 2
}
