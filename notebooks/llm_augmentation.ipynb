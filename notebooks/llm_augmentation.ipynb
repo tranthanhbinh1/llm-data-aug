{
 "cells": [
  {
   "cell_type": "code",
   "execution_count": 2,
   "metadata": {},
   "outputs": [],
   "source": [
    "import pandas as pd\n",
    "import sys  \n",
    "sys.path.insert(1, '/home/tb24/projects/llm-data-aug')\n",
    "\n",
    "# Path\n",
    "import os\n",
    "\n",
    "# Get the project root directory (one level up from the notebook directory)\n",
    "project_root = os.path.abspath(os.path.join(os.getcwd(), \"..\"))\n",
    "\n",
    "# Define the data path\n",
    "data_path = os.path.join(project_root, \"data\")"
   ]
  },
  {
   "cell_type": "markdown",
   "metadata": {},
   "source": [
    "### Concat checkpoints to form a complete dataset"
   ]
  },
  {
   "cell_type": "code",
   "execution_count": 10,
   "metadata": {},
   "outputs": [
    {
     "data": {
      "text/html": [
       "<div>\n",
       "<style scoped>\n",
       "    .dataframe tbody tr th:only-of-type {\n",
       "        vertical-align: middle;\n",
       "    }\n",
       "\n",
       "    .dataframe tbody tr th {\n",
       "        vertical-align: top;\n",
       "    }\n",
       "\n",
       "    .dataframe thead th {\n",
       "        text-align: right;\n",
       "    }\n",
       "</style>\n",
       "<table border=\"1\" class=\"dataframe\">\n",
       "  <thead>\n",
       "    <tr style=\"text-align: right;\">\n",
       "      <th></th>\n",
       "      <th>Review</th>\n",
       "      <th>Sentiment</th>\n",
       "    </tr>\n",
       "  </thead>\n",
       "  <tbody>\n",
       "    <tr>\n",
       "      <th>0</th>\n",
       "      <td>không được mát lắm</td>\n",
       "      <td>2</td>\n",
       "    </tr>\n",
       "    <tr>\n",
       "      <th>1</th>\n",
       "      <td>Nó không thực sự mát.</td>\n",
       "      <td>2</td>\n",
       "    </tr>\n",
       "    <tr>\n",
       "      <th>2</th>\n",
       "      <td>Nó không mát như tôi mong đợi.</td>\n",
       "      <td>2</td>\n",
       "    </tr>\n",
       "    <tr>\n",
       "      <th>3</th>\n",
       "      <td>Độ mát của nó không được tốt lắm.</td>\n",
       "      <td>2</td>\n",
       "    </tr>\n",
       "    <tr>\n",
       "      <th>4</th>\n",
       "      <td>Tôi không thấy nó mát lắm.</td>\n",
       "      <td>2</td>\n",
       "    </tr>\n",
       "  </tbody>\n",
       "</table>\n",
       "</div>"
      ],
      "text/plain": [
       "                              Review  Sentiment\n",
       "0                 không được mát lắm          2\n",
       "1              Nó không thực sự mát.          2\n",
       "2     Nó không mát như tôi mong đợi.          2\n",
       "3  Độ mát của nó không được tốt lắm.          2\n",
       "4         Tôi không thấy nó mát lắm.          2"
      ]
     },
     "execution_count": 10,
     "metadata": {},
     "output_type": "execute_result"
    }
   ],
   "source": [
    "dir = \"llm_generated/gemini-2.0-flash\"\n",
    "\n",
    "files = os.listdir(os.path.join(data_path, dir))\n",
    "# Negative sentiment\n",
    "# files = [f for f in files if f.endswith(\".csv\") and \"auggpt_augmented_user_reviews_negative\" in f]\n",
    "\n",
    "# Neutral sentiment\n",
    "files = [f for f in files if f.endswith(\".csv\") and \"auggpt_augmented_user_reviews_neutral\" in f]   \n",
    "\n",
    "df = pd.concat([pd.read_csv(os.path.join(data_path, dir, f)) for f in files])\n",
    "df.head()\n",
    "\n"
   ]
  },
  {
   "cell_type": "code",
   "execution_count": 11,
   "metadata": {},
   "outputs": [],
   "source": [
    "# df.to_csv(os.path.join(data_path, dir, \"auggpt_augmented_user_reviews_negative.csv\"), index=False)\n",
    "df.to_csv(os.path.join(data_path, dir, \"auggpt_augmented_user_reviews_neutral.csv\"), index=False)"
   ]
  },
  {
   "cell_type": "code",
   "execution_count": 12,
   "metadata": {},
   "outputs": [
    {
     "name": "stdout",
     "output_type": "stream",
     "text": [
      "<class 'pandas.core.frame.DataFrame'>\n",
      "Index: 1806 entries, 0 to 119\n",
      "Data columns (total 2 columns):\n",
      " #   Column     Non-Null Count  Dtype \n",
      "---  ------     --------------  ----- \n",
      " 0   Review     1806 non-null   object\n",
      " 1   Sentiment  1806 non-null   int64 \n",
      "dtypes: int64(1), object(1)\n",
      "memory usage: 42.3+ KB\n"
     ]
    }
   ],
   "source": [
    "df.info()"
   ]
  },
  {
   "cell_type": "code",
   "execution_count": 30,
   "metadata": {},
   "outputs": [
    {
     "name": "stdout",
     "output_type": "stream",
     "text": [
      "<class 'pandas.core.frame.DataFrame'>\n",
      "Index: 5657 entries, 0 to 2376\n",
      "Data columns (total 2 columns):\n",
      " #   Column     Non-Null Count  Dtype \n",
      "---  ------     --------------  ----- \n",
      " 0   Review     5657 non-null   object\n",
      " 1   Sentiment  5657 non-null   int64 \n",
      "dtypes: int64(1), object(1)\n",
      "memory usage: 132.6+ KB\n"
     ]
    }
   ],
   "source": [
    "### Concat the Neutral and Negative Sentiment with the Positive Sentiment\n",
    "neutral = pd.read_csv(os.path.join(data_path, \"llm_generated/gemini-2.0-flash\", \"auggpt_augmented_user_reviews_neutral.csv\"))\n",
    "negative = pd.read_csv(os.path.join(data_path, \"llm_generated/gemini-2.0-flash\", \"auggpt_augmented_user_reviews_negative.csv\"))\n",
    "\n",
    "positive = pd.read_csv(os.path.join(data_path, \"cleaned_user_reviews.csv\"))[[\"Review\", \"Sentiment\"]]\n",
    "label_mapping = {'Positive': 1, 'Neutral': 2, 'Negative': 0}\n",
    "positive[\"Sentiment\"] = positive[\"Sentiment\"].map(label_mapping)\n",
    "positive = positive.where(positive[\"Sentiment\"] == 1)\n",
    "positive.reset_index(drop=True, inplace=True)\n",
    "positive.dropna(inplace=True)\n",
    "\n",
    "upsampled_df = pd.concat([neutral, negative, positive])\n",
    "upsampled_df[\"Sentiment\"] = upsampled_df[\"Sentiment\"].astype(int)\n",
    "upsampled_df.info()\n",
    "upsampled_df.to_csv(os.path.join(data_path, \"llm_generated/gemini-2.0-flash\", \"auggpt_upsampled_user_reviews.csv\"), index=False)\n"
   ]
  },
  {
   "cell_type": "markdown",
   "metadata": {},
   "source": [
    "### Examine and clean the Generated Data (with AugGPT)\n"
   ]
  },
  {
   "cell_type": "code",
   "execution_count": 31,
   "metadata": {},
   "outputs": [
    {
     "name": "stdout",
     "output_type": "stream",
     "text": [
      "<class 'pandas.core.frame.DataFrame'>\n",
      "RangeIndex: 5657 entries, 0 to 5656\n",
      "Data columns (total 2 columns):\n",
      " #   Column     Non-Null Count  Dtype \n",
      "---  ------     --------------  ----- \n",
      " 0   Review     5657 non-null   object\n",
      " 1   Sentiment  5657 non-null   int64 \n",
      "dtypes: int64(1), object(1)\n",
      "memory usage: 88.5+ KB\n"
     ]
    }
   ],
   "source": [
    "df = pd.read_csv(os.path.join(data_path, \"llm_generated/gemini-2.0-flash\", \"auggpt_upsampled_user_reviews.csv\"))\n",
    "df.info()"
   ]
  },
  {
   "cell_type": "code",
   "execution_count": 32,
   "metadata": {},
   "outputs": [
    {
     "data": {
      "text/plain": [
       "Sentiment\n",
       "0    2174\n",
       "2    1783\n",
       "1    1700\n",
       "Name: count, dtype: int64"
      ]
     },
     "execution_count": 32,
     "metadata": {},
     "output_type": "execute_result"
    }
   ],
   "source": [
    "# The number of records for each sentiment\n",
    "label_mapping = {'Positive': 1, 'Neutral': 2, 'Negative': 0}\n",
    "df[\"Sentiment\"].value_counts()\n"
   ]
  },
  {
   "cell_type": "code",
   "execution_count": 33,
   "metadata": {},
   "outputs": [
    {
     "data": {
      "text/plain": [
       "Sentiment\n",
       "0    2174\n",
       "2    1783\n",
       "1    1700\n",
       "Name: count, dtype: int64"
      ]
     },
     "execution_count": 33,
     "metadata": {},
     "output_type": "execute_result"
    }
   ],
   "source": [
    "# Remove invalid sentiment: -1, 3, 4, 5\n",
    "df = df[df[\"Sentiment\"].isin([0, 1, 2])]\n",
    "df[\"Sentiment\"].value_counts()"
   ]
  },
  {
   "cell_type": "code",
   "execution_count": 35,
   "metadata": {},
   "outputs": [
    {
     "name": "stdout",
     "output_type": "stream",
     "text": [
      "<class 'pandas.core.frame.DataFrame'>\n",
      "Index: 4411 entries, 0 to 5656\n",
      "Data columns (total 2 columns):\n",
      " #   Column     Non-Null Count  Dtype \n",
      "---  ------     --------------  ----- \n",
      " 0   Review     4411 non-null   object\n",
      " 1   Sentiment  4411 non-null   int64 \n",
      "dtypes: int64(1), object(1)\n",
      "memory usage: 103.4+ KB\n"
     ]
    }
   ],
   "source": [
    "# Remove duplicates\n",
    "df = df.drop_duplicates(subset=[\"Review\"])\n",
    "df.info()\n",
    "df[\"Sentiment\"].value_counts()\n",
    "\n",
    "# Save the cleaned data\n",
    "df.to_csv(os.path.join(data_path, \"llm_generated/gemini-2.0-flash\", \"auggpt_upsampled_user_reviews_cleaned.csv\"), index=False)"
   ]
  },
  {
   "cell_type": "markdown",
   "metadata": {},
   "source": [
    "### Examine the quality of the generated data"
   ]
  },
  {
   "cell_type": "code",
   "execution_count": 38,
   "metadata": {},
   "outputs": [
    {
     "data": {
      "text/plain": [
       "Sentiment\n",
       "0    2174\n",
       "2    1783\n",
       "1    1700\n",
       "Name: count, dtype: int64"
      ]
     },
     "execution_count": 38,
     "metadata": {},
     "output_type": "execute_result"
    }
   ],
   "source": [
    "upsampled_df = pd.read_csv(os.path.join(data_path, \"llm_generated/gemini-2.0-flash\", \"auggpt_upsampled_user_reviews.csv\"))\n",
    "upsampled_df[\"Sentiment\"].value_counts()"
   ]
  },
  {
   "cell_type": "code",
   "execution_count": 39,
   "metadata": {},
   "outputs": [
    {
     "data": {
      "text/plain": [
       "Sentiment\n",
       "1    1656\n",
       "0    1586\n",
       "2    1169\n",
       "Name: count, dtype: int64"
      ]
     },
     "execution_count": 39,
     "metadata": {},
     "output_type": "execute_result"
    }
   ],
   "source": [
    "upsampled_df_cleaned = pd.read_csv(os.path.join(data_path, \"llm_generated/gemini-2.0-flash\", \"auggpt_upsampled_user_reviews_cleaned.csv\"))\n",
    "upsampled_df_cleaned[\"Sentiment\"].value_counts()"
   ]
  },
  {
   "cell_type": "code",
   "execution_count": 41,
   "metadata": {},
   "outputs": [
    {
     "data": {
      "text/plain": [
       "Sentiment\n",
       "0    0.729531\n",
       "1    0.974118\n",
       "2    0.655637\n",
       "Name: count, dtype: float64"
      ]
     },
     "execution_count": 41,
     "metadata": {},
     "output_type": "execute_result"
    }
   ],
   "source": [
    "# Compare the number of records removed after deduplication in percentage for each sentiment\n",
    "upsampled_df_cleaned[\"Sentiment\"].value_counts() / upsampled_df[\"Sentiment\"].value_counts()\n"
   ]
  }
 ],
 "metadata": {
  "kernelspec": {
   "display_name": ".venv",
   "language": "python",
   "name": "python3"
  },
  "language_info": {
   "name": "python",
   "version": "3.11.11"
  }
 },
 "nbformat": 4,
 "nbformat_minor": 2
}
