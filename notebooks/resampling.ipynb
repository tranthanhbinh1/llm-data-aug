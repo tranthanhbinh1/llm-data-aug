{
 "cells": [
  {
   "cell_type": "code",
   "execution_count": 1,
   "metadata": {},
   "outputs": [],
   "source": [
    "import pandas as pd\n",
    "import sys  \n",
    "sys.path.insert(1, '/home/tb24/projects/llm-data-aug')\n",
    "\n",
    "# Path\n",
    "import os\n",
    "\n",
    "# Get the project root directory (one level up from the notebook directory)\n",
    "project_root = os.path.abspath(os.path.join(os.getcwd(), \"..\"))\n",
    "\n",
    "# Define the data path\n",
    "data_path = os.path.join(project_root, \"data\")"
   ]
  },
  {
   "cell_type": "markdown",
   "metadata": {},
   "source": [
    "## Examining Class Imbalance"
   ]
  },
  {
   "cell_type": "code",
   "execution_count": null,
   "metadata": {},
   "outputs": [],
   "source": [
    "# Read the cleaned data\n",
    "df = pd.read_csv(os.path.join(data_path, \"cleaned_user_reviews.csv\"))\n",
    "# Make sure they are all of type string\n",
    "df['emoji to text'] = df['emoji to text'].astype(str)\n",
    "df"
   ]
  },
  {
   "cell_type": "code",
   "execution_count": null,
   "metadata": {},
   "outputs": [],
   "source": [
    "# Định nghĩa mapping\n",
    "label_mapping = {'Positive': 1, 'Neutral': 2, 'Negative': 0}\n",
    "\n",
    "# Chuyển đổi cột 'Sentiment' sang số bằng cách sử dụng mapping\n",
    "df['Sentiment'] = df['Sentiment'].map(label_mapping)\n",
    "\n",
    "df"
   ]
  },
  {
   "cell_type": "code",
   "execution_count": null,
   "metadata": {},
   "outputs": [],
   "source": [
    "sentiment_counts = df['Sentiment'].value_counts()\n",
    "\n",
    "print(\"Số lượng nhãn trong cột 'Sentiment':\")\n",
    "print(sentiment_counts)"
   ]
  },
  {
   "cell_type": "markdown",
   "metadata": {},
   "source": [
    "## Data Augmentation with Resampling"
   ]
  },
  {
   "cell_type": "code",
   "execution_count": null,
   "metadata": {},
   "outputs": [],
   "source": [
    "from sklearn.utils import resample\n",
    "\n",
    "# Create DataFrames for each sentiment class\n",
    "df_positive = df[df['Sentiment'] == 1]\n",
    "df_negative = df[df['Sentiment'] == 0]\n",
    "df_neutral = df[df['Sentiment'] == 2]\n",
    "\n",
    "# Get size of the majority class\n",
    "n_samples = len(df_positive)\n",
    "\n",
    "df_positive.head()"
   ]
  },
  {
   "cell_type": "markdown",
   "metadata": {},
   "source": [
    "#### Upsampling"
   ]
  },
  {
   "cell_type": "code",
   "execution_count": null,
   "metadata": {},
   "outputs": [],
   "source": [
    "# Upsample minority classes to match majority class\n",
    "df_negative_upsampled = resample(\n",
    "    df_negative, \n",
    "    replace=True,\n",
    "    n_samples=n_samples,\n",
    "    random_state=42\n",
    ")\n",
    "\n",
    "df_neutral_upsampled = resample(\n",
    "    df_neutral,\n",
    "    replace=True,\n",
    "    n_samples=n_samples,\n",
    "    random_state=42\n",
    ")\n",
    "\n",
    "# Combine upsampled minority classes with majority class\n",
    "df_upsampled = pd.concat([df_positive, df_negative_upsampled, df_neutral_upsampled])\n",
    "\n",
    "# Check the distribution of the upsampled dataset\n",
    "print(\"Class distribution after upsampling:\")\n",
    "print(df_upsampled['Sentiment'].value_counts())\n",
    "\n",
    "# Save the upsampled dataset if needed\n",
    "df_upsampled.to_csv(os.path.join(data_path, \"upsampled/upsampled_user_reviews.csv\"), index=False)"
   ]
  },
  {
   "cell_type": "code",
   "execution_count": null,
   "metadata": {},
   "outputs": [],
   "source": [
    "df_negative_upsampled"
   ]
  },
  {
   "cell_type": "markdown",
   "metadata": {},
   "source": [
    "### Downsampling"
   ]
  },
  {
   "cell_type": "code",
   "execution_count": null,
   "metadata": {},
   "outputs": [],
   "source": [
    "# Size of the minority classes\n",
    "len(df_negative), len(df_neutral)"
   ]
  },
  {
   "cell_type": "code",
   "execution_count": null,
   "metadata": {},
   "outputs": [],
   "source": [
    "# Downsample the majority class to match the minority class\n",
    "min_samples = min(len(df_negative), len(df_neutral)) \n",
    "\n",
    "df_positive_downsampled = resample(\n",
    "    df_positive,\n",
    "    replace=False,\n",
    "    n_samples=min_samples,\n",
    "    random_state=42\n",
    ")\n",
    "\n",
    "df_negative_downsampled = resample(\n",
    "    df_negative,\n",
    "    replace=False,\n",
    "    n_samples=min_samples,\n",
    "    random_state=42\n",
    ")\n",
    "\n",
    "\n",
    "# Combine downsampled majority classes with minority class\n",
    "df_downsampled = pd.concat([df_positive_downsampled, df_neutral, df_negative_downsampled])\n",
    "\n",
    "# Check the distribution of the downsampled dataset\n",
    "print(\"Class distribution after downsampling:\")\n",
    "print(df_downsampled['Sentiment'].value_counts())\n",
    "\n",
    "# Save the downsampled dataset if needed\n",
    "df_downsampled.to_csv(os.path.join(data_path, \"downsampled/downsampled_user_reviews.csv\"), index=False)\n"
   ]
  },
  {
   "cell_type": "code",
   "execution_count": null,
   "metadata": {},
   "outputs": [],
   "source": [
    "df_downsampled.head()"
   ]
  },
  {
   "cell_type": "markdown",
   "metadata": {},
   "source": [
    "## Split data into train, val, test"
   ]
  },
  {
   "cell_type": "code",
   "execution_count": 2,
   "metadata": {},
   "outputs": [],
   "source": [
    "from dataloaders.train_test_split import DataScenario, TrainTestSplit\n",
    "\n",
    "TrainTestSplit.run_train_test_split(DataScenario.UPSAMPLED)"
   ]
  },
  {
   "cell_type": "code",
   "execution_count": 4,
   "metadata": {},
   "outputs": [],
   "source": [
    "TrainTestSplit.run_train_test_split(DataScenario.DOWNSAMPLED)"
   ]
  },
  {
   "cell_type": "code",
   "execution_count": null,
   "metadata": {},
   "outputs": [],
   "source": []
  }
 ],
 "metadata": {
  "language_info": {
   "name": "python"
  }
 },
 "nbformat": 4,
 "nbformat_minor": 2
}
